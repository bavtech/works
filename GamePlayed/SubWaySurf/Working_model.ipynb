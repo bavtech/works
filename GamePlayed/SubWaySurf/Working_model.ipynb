{
 "cells": [
  {
   "cell_type": "code",
   "execution_count": 1,
   "id": "745a2afa-12eb-4a39-958b-1e9d3a064378",
   "metadata": {},
   "outputs": [],
   "source": [
    "import torch\n",
    "from torch import nn\n",
    "from PIL import Image\n",
    "from torchvision import transforms\n",
    "from torchsummary import summary\n",
    "from torch.utils.data import Dataset, random_split, DataLoader\n",
    "import pandas as pd\n",
    "import os\n",
    "import warnings\n",
    "warnings.filterwarnings(\"ignore\")"
   ]
  },
  {
   "cell_type": "code",
   "execution_count": 2,
   "id": "a0add441-9747-4055-92b0-a8dfbb528c9e",
   "metadata": {},
   "outputs": [],
   "source": [
    "class SubWayNet(nn.Module):\n",
    "\n",
    "    def __init__(self):\n",
    "\n",
    "        # (472, 988)\n",
    "        super(SubWayNet,self).__init__()\n",
    "        # self.conv1 =  \n",
    "        # self.conv2 =  nn.Conv2d(in_channels=32, out_channels=64, kernel_size=3)\n",
    "        # self.conv3 =  nn.Conv2d(in_channels=64, out_channels=128, kernel_size=3)\n",
    "        # self.conv4 =  nn.Conv2d(in_channels=128, out_channels=256, kernel_size=3)\n",
    "\n",
    "        self.sequential1 =  nn.Sequential(\n",
    "            nn.Conv2d(in_channels=3,stride=3, out_channels=64, kernel_size=3),\n",
    "            nn.BatchNorm2d(64),\n",
    "            nn.ReLU(),\n",
    "            nn.MaxPool2d(kernel_size=2),\n",
    "        )\n",
    "\n",
    "        self.sequential2 =  nn.Sequential(\n",
    "            nn.Conv2d(in_channels=64, stride=3, out_channels=128, kernel_size=3),\n",
    "            nn.BatchNorm2d(128),\n",
    "            nn.ReLU(),\n",
    "            nn.MaxPool2d(kernel_size=2),\n",
    "            \n",
    "        )\n",
    "\n",
    "        # self.sequential3 =  nn.Sequential(\n",
    "        #             nn.Conv2d(in_channels=64, out_channels=128, kernel_size=3),\n",
    "        #             nn.BatchNorm2d(128),\n",
    "        #             nn.ReLU(),\n",
    "        #             nn.MaxPool2d(kernel_size=2),\n",
    "        #             nn.Dropout(p=0.5)\n",
    "        # )\n",
    "\n",
    "    \n",
    "        # THIS ASSUMES THAT THE SEQUENTIAL IS 500\n",
    "        self.fc_layers =  nn.Sequential(\n",
    "                nn.Linear(128*13*13,64),\n",
    "                nn.ReLU(),\n",
    "                \n",
    "                nn.Linear(64,5)\n",
    "        )\n",
    "        nn.Dropout\n",
    "        self.dropout = nn.Dropout(0.5)\n",
    "    def forward(self,x):\n",
    "\n",
    "        x =  self.sequential1(x)\n",
    "        x =  self.sequential2(x)\n",
    "        # x =  self.sequential3(x)\n",
    "        # x = x.view(x.size(0),-1)\n",
    "        x= x.view(-1,128*13*13)\n",
    "\n",
    "        x  =self.dropout(x)\n",
    "\n",
    "        x =  self.fc_layers(x)\n",
    "        return x"
   ]
  },
  {
   "cell_type": "code",
   "execution_count": 3,
   "id": "87587468-60ec-4d5c-8c04-e3845c1b25f3",
   "metadata": {},
   "outputs": [],
   "source": [
    "transform  =transforms.Compose([\n",
    "    transforms.Resize((500,500)),\n",
    "    transforms.ToTensor(),\n",
    "    transforms.Normalize(mean=[0.485,0.456,0.406], std=[0.229,0.224,0.225]),\n",
    "])"
   ]
  },
  {
   "cell_type": "code",
   "execution_count": 4,
   "id": "7e02f18c-2662-427f-819e-d7159fe2d746",
   "metadata": {},
   "outputs": [],
   "source": [
    "class LoadImages(Dataset):\n",
    "\n",
    "    def __init__(self, csv_file='new_csv.csv', transform=None):\n",
    "        self.root_dir =  \"SHOTS\" \n",
    "        self.re_map = {'a':\"left\", \"w\":\"jump\",\"s\":\"roll\",\"d\":\"right\",'blank':'None'}\n",
    "        \n",
    "        self.df=  pd.read_csv(csv_file,dtype={'image':int, 'keyPress':str})\n",
    "        \n",
    "        self.df['keyPress'] = self.df[\"keyPress\"].apply(self.cleaner)\n",
    "        self.df = self.df[self.df.image.apply(self.exists)]      \n",
    "        self.df[\"keyPress\"] = self.df[\"keyPress\"].apply(lambda x: self.re_map.get(x))\n",
    "        \n",
    "        self.one_hot_encoded_df = pd.get_dummies(self.df['keyPress'], dtype=float)\n",
    "        self.df = pd.concat([self.df, self.one_hot_encoded_df], axis=1)\n",
    "\n",
    "        self.transform = transform\n",
    "    \n",
    "    \n",
    "    def __len__(self):\n",
    "        return self.df.shape[0]\n",
    "\n",
    "    def __getitem__(self, idx):\n",
    "        pt =  os.path.join(self.root_dir,str(self.df.iloc[idx][0])+\".jpg\")\n",
    "        img = Image.open(pt)\n",
    "\n",
    "        y_label =  self.df.drop(columns=['image','keyPress']).iloc[idx]\n",
    "        \n",
    "        \n",
    "        \n",
    "        if self.transform:\n",
    "            img =  transform(img)\n",
    "\n",
    "        # return img, torch.tensor(y_label).view(-1)\n",
    "        return img, torch.tensor(y_label)\n",
    "        \n",
    "    def getMappings(self):\n",
    "        return dict(enumerate(self.df['keyPress'].astype('category').cat.categories))\n",
    "\n",
    "    def cleaner(self,x):\n",
    "        if 'blank' not in x:\n",
    "            \n",
    "            return  x[0]\n",
    "        else:\n",
    "            return 'blank'\n",
    "            \n",
    "            \n",
    "    def exists(self,filename:str):\n",
    "        if os.path.exists(f\"SHOTS/{filename}.jpg\"):\n",
    "            return True\n",
    "        else:\n",
    "        \n",
    "            return False"
   ]
  },
  {
   "cell_type": "code",
   "execution_count": 5,
   "id": "045ce896-05ca-428d-b69a-1440a18237aa",
   "metadata": {},
   "outputs": [],
   "source": [
    "# load the dataset\n",
    "custom_data =  LoadImages(transform=transform)"
   ]
  },
  {
   "cell_type": "code",
   "execution_count": 6,
   "id": "e6ea5454",
   "metadata": {},
   "outputs": [
    {
     "data": {
      "text/plain": [
       "{0: 'None', 1: 'jump', 2: 'left', 3: 'right', 4: 'roll'}"
      ]
     },
     "execution_count": 6,
     "metadata": {},
     "output_type": "execute_result"
    }
   ],
   "source": [
    "custom_data.getMappings()"
   ]
  },
  {
   "cell_type": "code",
   "execution_count": 7,
   "id": "2a216890",
   "metadata": {},
   "outputs": [],
   "source": [
    "# custom_data[50000][1].to('cpu').numpy()"
   ]
  },
  {
   "cell_type": "code",
   "execution_count": 8,
   "id": "f6c4a919-23ca-40aa-a02c-73b8ab9b26c2",
   "metadata": {},
   "outputs": [],
   "source": [
    "# split into train and test  and validation set\n",
    "train_size = int(0.85*len(custom_data))\n",
    "val_size=  len(custom_data) - train_size\n",
    "train_dataset  , val_dataset =  torch.utils.data.random_split(custom_data,[train_size,val_size])"
   ]
  },
  {
   "cell_type": "code",
   "execution_count": 9,
   "id": "e49b1979",
   "metadata": {},
   "outputs": [
    {
     "data": {
      "text/plain": [
       "(71616, 12639)"
      ]
     },
     "execution_count": 9,
     "metadata": {},
     "output_type": "execute_result"
    }
   ],
   "source": [
    "train_size, val_size"
   ]
  },
  {
   "cell_type": "code",
   "execution_count": 10,
   "id": "a08def60-8e71-4100-b393-7e5360d49567",
   "metadata": {},
   "outputs": [],
   "source": [
    "# create data loaders\n",
    "batch_size=32\n",
    "train_loader =  DataLoader(train_dataset,batch_size=batch_size,shuffle=True)\n",
    "val_loader =  DataLoader(val_dataset, batch_size=batch_size)"
   ]
  },
  {
   "cell_type": "code",
   "execution_count": 11,
   "id": "04330258-830d-4121-8cf8-1fca3c2701ce",
   "metadata": {},
   "outputs": [],
   "source": [
    "for i,x in train_loader:\n",
    "    break"
   ]
  },
  {
   "cell_type": "code",
   "execution_count": 12,
   "id": "04b8e0ad-9e2a-48da-a3fb-aa992de64986",
   "metadata": {},
   "outputs": [],
   "source": [
    "# LOAD MODEL\n",
    "model =  SubWayNet()\n",
    "\n",
    "# Define the loss function and optimizer\n",
    "criterion =  nn.CrossEntropyLoss()\n",
    "optimizer =  torch.optim.Adam(model.parameters(),lr=0.001)"
   ]
  },
  {
   "cell_type": "code",
   "execution_count": 13,
   "id": "25339b2b-58a8-466e-8199-4a088570bde3",
   "metadata": {},
   "outputs": [
    {
     "data": {
      "text/plain": [
       "{0: 'None', 1: 'jump', 2: 'left', 3: 'right', 4: 'roll'}"
      ]
     },
     "execution_count": 13,
     "metadata": {},
     "output_type": "execute_result"
    }
   ],
   "source": [
    "custom_data.getMappings()"
   ]
  },
  {
   "cell_type": "code",
   "execution_count": 14,
   "id": "7ec3b560-2852-4583-983e-3385cb45eecb",
   "metadata": {},
   "outputs": [
    {
     "data": {
      "text/plain": [
       "SubWayNet(\n",
       "  (sequential1): Sequential(\n",
       "    (0): Conv2d(3, 64, kernel_size=(3, 3), stride=(3, 3))\n",
       "    (1): BatchNorm2d(64, eps=1e-05, momentum=0.1, affine=True, track_running_stats=True)\n",
       "    (2): ReLU()\n",
       "    (3): MaxPool2d(kernel_size=2, stride=2, padding=0, dilation=1, ceil_mode=False)\n",
       "  )\n",
       "  (sequential2): Sequential(\n",
       "    (0): Conv2d(64, 128, kernel_size=(3, 3), stride=(3, 3))\n",
       "    (1): BatchNorm2d(128, eps=1e-05, momentum=0.1, affine=True, track_running_stats=True)\n",
       "    (2): ReLU()\n",
       "    (3): MaxPool2d(kernel_size=2, stride=2, padding=0, dilation=1, ceil_mode=False)\n",
       "  )\n",
       "  (fc_layers): Sequential(\n",
       "    (0): Linear(in_features=21632, out_features=64, bias=True)\n",
       "    (1): ReLU()\n",
       "    (2): Linear(in_features=64, out_features=5, bias=True)\n",
       "  )\n",
       "  (dropout): Dropout(p=0.5, inplace=False)\n",
       ")"
      ]
     },
     "execution_count": 14,
     "metadata": {},
     "output_type": "execute_result"
    }
   ],
   "source": [
    "num_epochs =6\n",
    "device =  torch.device('cuda' if torch.cuda.is_available() else 'cpu')\n",
    "model.to(device)\n"
   ]
  },
  {
   "cell_type": "code",
   "execution_count": 15,
   "id": "1ffe9d2b-e98b-49d7-9b97-735e01200a38",
   "metadata": {},
   "outputs": [],
   "source": [
    "# summary(model,(3,500,500))"
   ]
  },
  {
   "cell_type": "code",
   "execution_count": 16,
   "id": "413450fd-2535-460e-9862-e5ddd942a869",
   "metadata": {},
   "outputs": [
    {
     "name": "stdout",
     "output_type": "stream",
     "text": [
      "----------------------------------------------------------------\n",
      "        Layer (type)               Output Shape         Param #\n",
      "================================================================\n",
      "            Conv2d-1         [-1, 64, 166, 166]           1,792\n",
      "       BatchNorm2d-2         [-1, 64, 166, 166]             128\n",
      "              ReLU-3         [-1, 64, 166, 166]               0\n",
      "         MaxPool2d-4           [-1, 64, 83, 83]               0\n",
      "            Conv2d-5          [-1, 128, 27, 27]          73,856\n",
      "       BatchNorm2d-6          [-1, 128, 27, 27]             256\n",
      "              ReLU-7          [-1, 128, 27, 27]               0\n",
      "         MaxPool2d-8          [-1, 128, 13, 13]               0\n",
      "           Dropout-9                [-1, 21632]               0\n",
      "           Linear-10                   [-1, 64]       1,384,512\n",
      "             ReLU-11                   [-1, 64]               0\n",
      "           Linear-12                    [-1, 5]             325\n",
      "================================================================\n",
      "Total params: 1,460,869\n",
      "Trainable params: 1,460,869\n",
      "Non-trainable params: 0\n",
      "----------------------------------------------------------------\n",
      "Input size (MB): 2.86\n",
      "Forward/backward pass size (MB): 46.20\n",
      "Params size (MB): 5.57\n",
      "Estimated Total Size (MB): 54.63\n",
      "----------------------------------------------------------------\n"
     ]
    }
   ],
   "source": [
    "summary(model,input_size=(3,500,500))"
   ]
  },
  {
   "cell_type": "code",
   "execution_count": 17,
   "id": "d328ae43-55bb-4411-b6ea-321c8fd24c7b",
   "metadata": {},
   "outputs": [
    {
     "name": "stdout",
     "output_type": "stream",
     "text": [
      "Epoch 1/6, Loss: 0.0000, Accuracy: 0.1250\n",
      "Epoch 1/6, Loss: 0.0104, Accuracy: 0.5414\n",
      "Epoch 1/6, Loss: 0.0186, Accuracy: 0.6018\n",
      "Epoch 1/6, Loss: 0.0257, Accuracy: 0.6414\n",
      "Epoch 2/6, Loss: 0.0000, Accuracy: 0.5938\n",
      "Epoch 2/6, Loss: 0.0060, Accuracy: 0.7634\n",
      "Epoch 2/6, Loss: 0.0118, Accuracy: 0.7714\n",
      "Epoch 2/6, Loss: 0.0173, Accuracy: 0.7772\n",
      "Epoch 3/6, Loss: 0.0000, Accuracy: 0.9062\n",
      "Epoch 3/6, Loss: 0.0050, Accuracy: 0.8081\n",
      "Epoch 3/6, Loss: 0.0099, Accuracy: 0.8115\n",
      "Epoch 3/6, Loss: 0.0146, Accuracy: 0.8133\n",
      "Entering Model Eval\n",
      "Epoch 3/6, Train Loss: 0.5440, val Loss: 0.4947, val Accuracy: 0.8287839227787008 \n",
      "Epoch 4/6, Loss: 0.0000, Accuracy: 0.8125\n",
      "Epoch 4/6, Loss: 0.0044, Accuracy: 0.8286\n",
      "Epoch 4/6, Loss: 0.0088, Accuracy: 0.8291\n",
      "Epoch 4/6, Loss: 0.0131, Accuracy: 0.8303\n",
      "Epoch 5/6, Loss: 0.0000, Accuracy: 0.9688\n",
      "Epoch 5/6, Loss: 0.0040, Accuracy: 0.8436\n",
      "Epoch 5/6, Loss: 0.0082, Accuracy: 0.8421\n",
      "Epoch 5/6, Loss: 0.0121, Accuracy: 0.8436\n",
      "Entering Model Eval\n",
      "Epoch 5/6, Train Loss: 0.4539, val Loss: 0.4351, val Accuracy: 0.8515705356436427 \n",
      "Epoch 6/6, Loss: 0.0000, Accuracy: 0.7812\n",
      "Epoch 6/6, Loss: 0.0038, Accuracy: 0.8541\n",
      "Epoch 6/6, Loss: 0.0076, Accuracy: 0.8555\n",
      "Epoch 6/6, Loss: 0.0114, Accuracy: 0.8540\n"
     ]
    }
   ],
   "source": [
    "for epoch in range(num_epochs):\n",
    "    model.train()\n",
    "    losses=[]\n",
    "    train_loss = 0.0\n",
    "    running_loss = 0.0\n",
    "    correct=0\n",
    "    total=0\n",
    "    for train_idx,(images , labels) in enumerate(train_loader):\n",
    "        images,labels  = images.to(device), labels.to(device)\n",
    "\n",
    "        optimizer.zero_grad()\n",
    "        logits =  model(images)\n",
    "        loss =  criterion(logits,labels)\n",
    "        loss.backward()\n",
    "        optimizer.step()\n",
    "        train_loss +=loss.item() * images.size(0)\n",
    "        losses.append(loss.item())\n",
    "\n",
    "        \n",
    "        running_loss += loss.item()\n",
    "        _, predicted = torch.max(logits, 1)\n",
    "        total += labels.size(0)\n",
    "        correct += (predicted == labels.argmax(dim=1)).sum().item()\n",
    "        \n",
    "        if train_idx % 640==0:\n",
    "            \n",
    "            epoch_loss = running_loss / len(train_loader.dataset)\n",
    "            epoch_accuracy = correct / total\n",
    "            print(f\"Epoch {epoch+1}/{num_epochs}, Loss: {epoch_loss:.4f}, Accuracy: {epoch_accuracy:.4f}\")\n",
    "    if epoch>0 and epoch %2==0:\n",
    "        \n",
    "        print(\"Entering Model Eval\")\n",
    "        model.eval()\n",
    "        val_loss = 0.0\n",
    "        val_corrects =0\n",
    "        with torch.no_grad():\n",
    "            for images, labels in val_loader:\n",
    "                images,labels  = images.to(device), labels.to(device)\n",
    "                logits  = model(images)\n",
    "                loss =  criterion(logits,labels)\n",
    "                val_loss += loss.item() * images.size(0)\n",
    "                _, preds =  torch.max(logits,1)\n",
    "\n",
    "                val_corrects += torch.sum(preds ==labels.argmax(dim=1))\n",
    "\n",
    "        train_loss =  train_loss / len(train_loader.dataset)\n",
    "        val_loss =  val_loss /len(val_loader.dataset)\n",
    "        val_accuracy =  val_corrects.double()/len(val_loader.dataset)\n",
    "\n",
    "        print(f\"Epoch {epoch+1}/{num_epochs}, Train Loss: {train_loss:.4f}, val Loss: {val_loss:.4f}, val Accuracy: {val_accuracy} \")\n",
    "            \n",
    "torch.save(model,\"finalTrial_complete_data.pt\") \n",
    "        "
   ]
  },
  {
   "cell_type": "code",
   "execution_count": 18,
   "id": "e84e4854",
   "metadata": {},
   "outputs": [
    {
     "name": "stdout",
     "output_type": "stream",
     "text": [
      "Epoch 6/6, Loss: 0.0133, Accuracy: 0.8537\n"
     ]
    }
   ],
   "source": [
    "# epoch_loss = running_loss / len(train_loader.dataset)\n",
    "# epoch_loss\n",
    "epoch_loss = running_loss / len(train_loader.dataset)\n",
    "epoch_accuracy = correct / total\n",
    "print(f\"Epoch {epoch+1}/{num_epochs}, Loss: {epoch_loss:.4f}, Accuracy: {epoch_accuracy:.4f}\")\n",
    " "
   ]
  },
  {
   "cell_type": "code",
   "execution_count": 19,
   "id": "6f7f1fb3",
   "metadata": {},
   "outputs": [
    {
     "name": "stdout",
     "output_type": "stream",
     "text": [
      "Entering Model Eval\n"
     ]
    },
    {
     "name": "stdout",
     "output_type": "stream",
     "text": [
      "Epoch 6/6, Train Loss: 0.4263, val Loss: 0.3973, val Accuracy: 0.8644671255637313 \n"
     ]
    }
   ],
   "source": [
    "print(\"Entering Model Eval\")\n",
    "model.eval()\n",
    "val_loss = 0.0\n",
    "val_corrects =0\n",
    "with torch.no_grad():\n",
    "    for images, labels in val_loader:\n",
    "        images,labels  = images.to(device), labels.to(device)\n",
    "        logits  = model(images)\n",
    "        loss =  criterion(logits,labels)\n",
    "        val_loss += loss.item() * images.size(0)\n",
    "        _, preds =  torch.max(logits,1)\n",
    "\n",
    "        val_corrects += torch.sum(preds ==labels.argmax(dim=1))\n",
    "\n",
    "    train_loss =  train_loss / len(train_loader.dataset)\n",
    "    val_loss =  val_loss /len(val_loader.dataset)\n",
    "    val_accuracy =  val_corrects.double()/len(val_loader.dataset)\n",
    "\n",
    "    print(f\"Epoch {epoch+1}/{num_epochs}, Train Loss: {train_loss:.4f}, val Loss: {val_loss:.4f}, val Accuracy: {val_accuracy} \")\n",
    "            \n",
    "torch.save(model,\"finalTrial_complete_data.pt\") "
   ]
  },
  {
   "cell_type": "code",
   "execution_count": 20,
   "id": "67e61829",
   "metadata": {},
   "outputs": [
    {
     "name": "stdout",
     "output_type": "stream",
     "text": [
      "Epoch 6/6, Loss: 0.4263, Accuracy: 0.8537\n"
     ]
    }
   ],
   "source": [
    "epoch_loss = running_loss / len(train_loader)\n",
    "epoch_accuracy = correct / total\n",
    "\n",
    "print(f\"Epoch {epoch+1}/{num_epochs}, Loss: {epoch_loss:.4f}, Accuracy: {epoch_accuracy:.4f}\")"
   ]
  },
  {
   "cell_type": "code",
   "execution_count": 21,
   "id": "4e0eb55e",
   "metadata": {},
   "outputs": [],
   "source": [
    "torch.save(model,\"model_10_epochs87_73.pt\")"
   ]
  },
  {
   "cell_type": "code",
   "execution_count": 22,
   "id": "48d0d55e-3db2-4684-b646-cc7c508165f2",
   "metadata": {
    "scrolled": true
   },
   "outputs": [],
   "source": [
    "# labels.view(-1).shape"
   ]
  },
  {
   "cell_type": "code",
   "execution_count": 23,
   "id": "c3fde34d-6c9c-48eb-ac3a-3c81a0ceb6f8",
   "metadata": {},
   "outputs": [
    {
     "data": {
      "text/plain": [
       "torch.Size([32, 64, 167, 167])"
      ]
     },
     "execution_count": 23,
     "metadata": {},
     "output_type": "execute_result"
    }
   ],
   "source": [
    "conv2 = nn.Conv2d(in_channels=3,\n",
    "                  out_channels=64,\n",
    "                  kernel_size=3,\n",
    "                  padding=1,stride=3)\n",
    "\n",
    "x = torch.randn(32, 3, 500, 500)\n",
    "y = conv2(x)\n",
    "y.shape"
   ]
  },
  {
   "cell_type": "code",
   "execution_count": 24,
   "id": "fe3d0b0c-43bc-405e-a4c9-e2ca86ef3324",
   "metadata": {},
   "outputs": [],
   "source": [
    "# preds"
   ]
  },
  {
   "cell_type": "code",
   "execution_count": 25,
   "id": "19387f4c-2120-4c3d-bfb3-ae58c252eab3",
   "metadata": {},
   "outputs": [],
   "source": [
    "# labels.view(-1)"
   ]
  },
  {
   "cell_type": "code",
   "execution_count": 26,
   "id": "e7f4e280-92dc-4e67-b562-2202d9291220",
   "metadata": {},
   "outputs": [],
   "source": [
    "# labels.argmax(dim=1).shape"
   ]
  },
  {
   "cell_type": "code",
   "execution_count": 27,
   "id": "de1af070-1fb1-48af-a730-6f4e63792d1a",
   "metadata": {},
   "outputs": [
    {
     "data": {
      "text/plain": [
       "2238"
      ]
     },
     "execution_count": 27,
     "metadata": {},
     "output_type": "execute_result"
    }
   ],
   "source": [
    "len(losses)"
   ]
  },
  {
   "cell_type": "code",
   "execution_count": 28,
   "id": "317113ef-54da-457d-a561-372d6ec1fb47",
   "metadata": {},
   "outputs": [
    {
     "data": {
      "text/plain": [
       "2238"
      ]
     },
     "execution_count": 28,
     "metadata": {},
     "output_type": "execute_result"
    }
   ],
   "source": [
    "len(train_loader)"
   ]
  },
  {
   "cell_type": "code",
   "execution_count": 29,
   "id": "90cd423d-c8b7-4d3d-89e4-8724337d8107",
   "metadata": {},
   "outputs": [
    {
     "data": {
      "text/plain": [
       "torch.Size([31, 3, 500, 500])"
      ]
     },
     "execution_count": 29,
     "metadata": {},
     "output_type": "execute_result"
    }
   ],
   "source": [
    "images.shape"
   ]
  },
  {
   "cell_type": "code",
   "execution_count": 30,
   "id": "289d9dd4-1e14-4623-94fb-c9a043043fe6",
   "metadata": {},
   "outputs": [
    {
     "data": {
      "text/plain": [
       "271.0"
      ]
     },
     "execution_count": 30,
     "metadata": {},
     "output_type": "execute_result"
    }
   ],
   "source": [
    "542/2\n"
   ]
  },
  {
   "cell_type": "code",
   "execution_count": 31,
   "id": "d70c9157-df82-4c32-bcba-38ba547400fe",
   "metadata": {},
   "outputs": [
    {
     "data": {
      "text/plain": [
       "0"
      ]
     },
     "execution_count": 31,
     "metadata": {},
     "output_type": "execute_result"
    }
   ],
   "source": [
    "542 %271"
   ]
  },
  {
   "cell_type": "code",
   "execution_count": 32,
   "id": "a50ee627-53eb-4dc2-af26-d2e34ecf8e57",
   "metadata": {},
   "outputs": [],
   "source": [
    "import matplotlib.pyplot as plt"
   ]
  },
  {
   "cell_type": "code",
   "execution_count": 33,
   "id": "ce38f112",
   "metadata": {},
   "outputs": [
    {
     "data": {
      "image/png": "[encoded data removed]",
      "text/plain": [
       "<Figure size 640x480 with 1 Axes>"
      ]
     },
     "metadata": {},
     "output_type": "display_data"
    }
   ],
   "source": [
    "plt.plot(range(1, len(losses) + 1), losses)\n",
    "plt.xlabel('Epoch')\n",
    "plt.ylabel('Loss')\n",
    "plt.title('Training Loss vs Epoch')\n",
    "# plt.grid(True)\n",
    "plt.show()"
   ]
  },
  {
   "cell_type": "code",
   "execution_count": null,
   "id": "62f35fcf",
   "metadata": {},
   "outputs": [],
   "source": []
  },
  {
   "cell_type": "code",
   "execution_count": null,
   "id": "2efdbab9",
   "metadata": {},
   "outputs": [],
   "source": []
  },
  {
   "cell_type": "code",
   "execution_count": 34,
   "id": "9150246d-f6e9-4731-9ead-267cbac8e7af",
   "metadata": {},
   "outputs": [],
   "source": [
    "# plt.plot(range(1, len(losses) + 1), losses)\n",
    "# plt.xlabel('Epoch')\n",
    "# plt.ylabel('Loss')\n",
    "# plt.title('Training Loss vs Epoch')\n",
    "# # plt.grid(True)\n",
    "# plt.show()"
   ]
  },
  {
   "cell_type": "code",
   "execution_count": 35,
   "id": "3f9021cc-7ba2-4508-8dcd-e822c95990e9",
   "metadata": {},
   "outputs": [
    {
     "data": {
      "image/png": "[encoded data removed]",
      "text/plain": [
       "<Figure size 640x480 with 1 Axes>"
      ]
     },
     "metadata": {},
     "output_type": "display_data"
    }
   ],
   "source": [
    "plt.plot(range(1, len(losses) + 1), losses)\n",
    "plt.xlabel('Epoch')\n",
    "plt.ylabel('Loss')\n",
    "plt.title('Training Loss vs Epoch')\n",
    "# plt.grid(True)\n",
    "plt.show()"
   ]
  }
 ],
 "metadata": {
  "kernelspec": {
   "display_name": "Python 3 (ipykernel)",
   "language": "python",
   "name": "python3"
  },
  "language_info": {
   "codemirror_mode": {
    "name": "ipython",
    "version": 3
   },
   "file_extension": ".py",
   "mimetype": "text/x-python",
   "name": "python",
   "nbconvert_exporter": "python",
   "pygments_lexer": "ipython3",
   "version": "3.11.2"
  }
 },
 "nbformat": 4,
 "nbformat_minor": 5
}
