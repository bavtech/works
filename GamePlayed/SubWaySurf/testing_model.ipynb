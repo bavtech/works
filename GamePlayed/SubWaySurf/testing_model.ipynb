{
 "cells": [
  {
   "cell_type": "code",
   "execution_count": 1,
   "metadata": {},
   "outputs": [],
   "source": [
    "import pandas as pd\n",
    "import numpy as np\n",
    "from PIL import Image\n",
    "import os\n",
    "import torch\n",
    "from torch import nn\n",
    "from torchvision import transforms\n",
    "from collections import Counter\n",
    "\n"
   ]
  },
  {
   "cell_type": "code",
   "execution_count": 2,
   "metadata": {},
   "outputs": [],
   "source": [
    "transform  =transforms.Compose([\n",
    "    transforms.Resize((500,500)),\n",
    "    transforms.ToTensor(),\n",
    "    transforms.Normalize(mean=[0.485,0.456,0.406], std=[0.229,0.224,0.225]),\n",
    "])"
   ]
  },
  {
   "cell_type": "code",
   "execution_count": 3,
   "metadata": {},
   "outputs": [],
   "source": [
    "device =  \"cuda\" if torch.cuda.is_available() else 'cpu'"
   ]
  },
  {
   "cell_type": "code",
   "execution_count": 4,
   "metadata": {},
   "outputs": [],
   "source": [
    "moves = {0: 'None', 1: 'jump', 2: 'left', 3: 'right', 4: 'roll'}"
   ]
  },
  {
   "cell_type": "code",
   "execution_count": 5,
   "metadata": {},
   "outputs": [],
   "source": [
    "class SubWayNet(nn.Module):\n",
    "\n",
    "    def __init__(self):\n",
    "\n",
    "        # (472, 988)\n",
    "        super(SubWayNet,self).__init__()\n",
    "        # self.conv1 =  \n",
    "        # self.conv2 =  nn.Conv2d(in_channels=32, out_channels=64, kernel_size=3)\n",
    "        # self.conv3 =  nn.Conv2d(in_channels=64, out_channels=128, kernel_size=3)\n",
    "        # self.conv4 =  nn.Conv2d(in_channels=128, out_channels=256, kernel_size=3)\n",
    "\n",
    "        self.sequential1 =  nn.Sequential(\n",
    "            nn.Conv2d(in_channels=3,stride=3, out_channels=64, kernel_size=3),\n",
    "            nn.BatchNorm2d(64),\n",
    "            nn.ReLU(),\n",
    "            nn.MaxPool2d(kernel_size=2)\n",
    "        )\n",
    "\n",
    "        self.sequential2 =  nn.Sequential(\n",
    "            nn.Conv2d(in_channels=64, stride=3, out_channels=128, kernel_size=3),\n",
    "            nn.BatchNorm2d(128),\n",
    "            nn.ReLU(),\n",
    "            nn.MaxPool2d(kernel_size=2),\n",
    "            # nn.Dropout(p=0.5)\n",
    "        )\n",
    "\n",
    "        # self.sequential3 =  nn.Sequential(\n",
    "        #             nn.Conv2d(in_channels=64, out_channels=128, kernel_size=3),\n",
    "        #             nn.BatchNorm2d(128),\n",
    "        #             nn.ReLU(),\n",
    "        #             nn.MaxPool2d(kernel_size=2),\n",
    "        #             nn.Dropout(p=0.5)\n",
    "        # )\n",
    "\n",
    "    \n",
    "        # THIS ASSUMES THAT THE SEQUENTIAL IS 500\n",
    "        self.fc_layers =  nn.Sequential(\n",
    "                nn.Linear(128*13*13,64),\n",
    "                nn.ReLU(),\n",
    "                nn.Linear(64,5)\n",
    "        )\n",
    "\n",
    "    def forward(self,x):\n",
    "\n",
    "        x =  self.sequential1(x)\n",
    "        x =  self.sequential2(x)\n",
    "        # x =  self.sequential3(x)\n",
    "        # x = x.view(x.size(0),-1)\n",
    "        x= x.view(-1,128*13*13)\n",
    "     \n",
    "\n",
    "        x =  self.fc_layers(x)\n",
    "        return x"
   ]
  },
  {
   "cell_type": "code",
   "execution_count": 12,
   "metadata": {},
   "outputs": [],
   "source": [
    "# class SubWayNet(nn.Module):\n",
    "\n",
    "#     def __init__(self):\n",
    "\n",
    "#         # (472, 988)\n",
    "#         super(SubWayNet,self).__init__()\n",
    "#         # self.conv1 =  \n",
    "#         # self.conv2 =  nn.Conv2d(in_channels=32, out_channels=64, kernel_size=3)\n",
    "#         # self.conv3 =  nn.Conv2d(in_channels=64, out_channels=128, kernel_size=3)\n",
    "#         # self.conv4 =  nn.Conv2d(in_channels=128, out_channels=256, kernel_size=3)\n",
    "\n",
    "#         self.sequential1 =  nn.Sequential(\n",
    "#             nn.Conv2d(in_channels=3, out_channels=32, kernel_size=3),\n",
    "#             nn.BatchNorm2d(32),\n",
    "#             nn.ReLU(),\n",
    "#             nn.MaxPool2d(kernel_size=2)\n",
    "#         )\n",
    "\n",
    "#         self.sequential2 =  nn.Sequential(\n",
    "#             nn.Conv2d(in_channels=32, out_channels=64, kernel_size=3),\n",
    "#             nn.BatchNorm2d(64),\n",
    "#             nn.ReLU(),\n",
    "#             nn.MaxPool2d(kernel_size=2)\n",
    "#         )\n",
    "\n",
    "#         self.sequential3 =  nn.Sequential(\n",
    "#                     nn.Conv2d(in_channels=64, out_channels=128, kernel_size=3),\n",
    "#                     nn.BatchNorm2d(128),\n",
    "#                     nn.ReLU(),\n",
    "#                     nn.MaxPool2d(kernel_size=2)\n",
    "#         )\n",
    "\n",
    "    \n",
    "#         # THIS ASSUMES THAT THE SEQUENTIAL IS 500\n",
    "#         self.fc_layers =  nn.Sequential(\n",
    "#                 nn.Linear(128*60*60,64),\n",
    "#                 nn.ReLU(),\n",
    "#                 nn.Linear(64,5)\n",
    "#         )\n",
    "\n",
    "#     def forward(self,x):\n",
    "\n",
    "#         x =  self.sequential1(x)\n",
    "#         x =  self.sequential2(x)\n",
    "#         x =  self.sequential3(x)\n",
    "#         x = x.view(-1, 128*60*60)\n",
    "\n",
    "#         x =  self.fc_layers(x)\n",
    "#         return x"
   ]
  },
  {
   "cell_type": "code",
   "execution_count": 6,
   "metadata": {},
   "outputs": [],
   "source": [
    "model=SubWayNet()"
   ]
  },
  {
   "cell_type": "code",
   "execution_count": 7,
   "metadata": {},
   "outputs": [],
   "source": [
    "model =  torch.load(\"finalTrial_complete_data.pt\")"
   ]
  },
  {
   "cell_type": "code",
   "execution_count": 8,
   "metadata": {},
   "outputs": [
    {
     "data": {
      "text/plain": [
       "SubWayNet(\n",
       "  (sequential1): Sequential(\n",
       "    (0): Conv2d(3, 64, kernel_size=(3, 3), stride=(3, 3))\n",
       "    (1): BatchNorm2d(64, eps=1e-05, momentum=0.1, affine=True, track_running_stats=True)\n",
       "    (2): ReLU()\n",
       "    (3): MaxPool2d(kernel_size=2, stride=2, padding=0, dilation=1, ceil_mode=False)\n",
       "  )\n",
       "  (sequential2): Sequential(\n",
       "    (0): Conv2d(64, 128, kernel_size=(3, 3), stride=(3, 3))\n",
       "    (1): BatchNorm2d(128, eps=1e-05, momentum=0.1, affine=True, track_running_stats=True)\n",
       "    (2): ReLU()\n",
       "    (3): MaxPool2d(kernel_size=2, stride=2, padding=0, dilation=1, ceil_mode=False)\n",
       "  )\n",
       "  (fc_layers): Sequential(\n",
       "    (0): Linear(in_features=21632, out_features=64, bias=True)\n",
       "    (1): ReLU()\n",
       "    (2): Linear(in_features=64, out_features=5, bias=True)\n",
       "  )\n",
       "  (dropout): Dropout(p=0.5, inplace=False)\n",
       ")"
      ]
     },
     "execution_count": 8,
     "metadata": {},
     "output_type": "execute_result"
    }
   ],
   "source": [
    "model.to(device)"
   ]
  },
  {
   "cell_type": "code",
   "execution_count": 9,
   "metadata": {},
   "outputs": [],
   "source": [
    "def prepare(filename:str):\n",
    "    \n",
    "    pt =  f\"TEST_S/{filename}.jpg\"\n",
    "    img = Image.open(pt)\n",
    "    \n",
    "    return  transform(img).unsqueeze(0).to(device)"
   ]
  },
  {
   "cell_type": "code",
   "execution_count": 12,
   "metadata": {},
   "outputs": [],
   "source": [
    "a = prepare('1')"
   ]
  },
  {
   "cell_type": "code",
   "execution_count": 10,
   "metadata": {},
   "outputs": [
    {
     "name": "stdout",
     "output_type": "stream",
     "text": [
      "right\n"
     ]
    }
   ],
   "source": [
    "a = prepare(str(1))\n",
    "model.eval()\n",
    "with torch.no_grad():\n",
    "    logits = model(a)\n",
    "_,pred = torch.max(logits, 1)\n",
    "print(moves[int(pred)])"
   ]
  },
  {
   "cell_type": "code",
   "execution_count": 20,
   "metadata": {},
   "outputs": [],
   "source": [
    "aa= []\n",
    "for i in range(1,52):\n",
    "        \n",
    "    a = prepare(str(i))\n",
    "    model.eval()\n",
    "    with torch.no_grad():\n",
    "        logits = model(a)\n",
    "    _,pred = torch.max(logits, 1)\n",
    "    # print(moves[int(pred)])\n",
    "    aa.append(moves[int(pred)])"
   ]
  },
  {
   "cell_type": "code",
   "execution_count": 18,
   "metadata": {},
   "outputs": [
    {
     "data": {
      "text/plain": [
       "{(1, 'right'),\n",
       " (2, 'right'),\n",
       " (3, 'right'),\n",
       " (4, 'right'),\n",
       " (5, 'right'),\n",
       " (6, 'right'),\n",
       " (7, 'left'),\n",
       " (8, 'right'),\n",
       " (9, 'right'),\n",
       " (10, 'left'),\n",
       " (11, 'right'),\n",
       " (12, 'None'),\n",
       " (13, 'None'),\n",
       " (14, 'left'),\n",
       " (15, 'None'),\n",
       " (16, 'None'),\n",
       " (17, 'left'),\n",
       " (18, 'None'),\n",
       " (19, 'right'),\n",
       " (20, 'right'),\n",
       " (21, 'right'),\n",
       " (22, 'right'),\n",
       " (23, 'right'),\n",
       " (24, 'right'),\n",
       " (25, 'right'),\n",
       " (26, 'right'),\n",
       " (27, 'right'),\n",
       " (28, 'right'),\n",
       " (29, 'right'),\n",
       " (30, 'right'),\n",
       " (31, 'right'),\n",
       " (32, 'None'),\n",
       " (33, 'None'),\n",
       " (34, 'None'),\n",
       " (35, 'left'),\n",
       " (36, 'left'),\n",
       " (37, 'jump'),\n",
       " (38, 'roll'),\n",
       " (39, 'roll'),\n",
       " (40, 'left'),\n",
       " (41, 'jump'),\n",
       " (42, 'jump'),\n",
       " (43, 'jump'),\n",
       " (44, 'jump'),\n",
       " (45, 'jump'),\n",
       " (46, 'None'),\n",
       " (47, 'None'),\n",
       " (48, 'left'),\n",
       " (49, 'right'),\n",
       " (50, 'right'),\n",
       " (51, 'right')}"
      ]
     },
     "execution_count": 18,
     "metadata": {},
     "output_type": "execute_result"
    }
   ],
   "source": [
    "set(aa)\n",
    "    "
   ]
  },
  {
   "cell_type": "code",
   "execution_count": 50,
   "metadata": {},
   "outputs": [
    {
     "data": {
      "text/plain": [
       "{0: 'None', 1: 'jump', 2: 'left', 3: 'right', 4: 'roll'}"
      ]
     },
     "execution_count": 50,
     "metadata": {},
     "output_type": "execute_result"
    }
   ],
   "source": [
    "moves"
   ]
  },
  {
   "cell_type": "code",
   "execution_count": 87,
   "metadata": {},
   "outputs": [
    {
     "data": {
      "text/plain": [
       "{'None', 'left', 'right', 'roll'}"
      ]
     },
     "execution_count": 87,
     "metadata": {},
     "output_type": "execute_result"
    }
   ],
   "source": [
    "set(aa)"
   ]
  },
  {
   "cell_type": "code",
   "execution_count": 21,
   "metadata": {},
   "outputs": [
    {
     "data": {
      "text/plain": [
       "Counter({'right': 25, 'None': 10, 'left': 8, 'jump': 6, 'roll': 2})"
      ]
     },
     "execution_count": 21,
     "metadata": {},
     "output_type": "execute_result"
    }
   ],
   "source": [
    "Counter(aa)"
   ]
  },
  {
   "cell_type": "code",
   "execution_count": null,
   "metadata": {},
   "outputs": [],
   "source": []
  }
 ],
 "metadata": {
  "kernelspec": {
   "display_name": "ComputerVision",
   "language": "python",
   "name": "python3"
  },
  "language_info": {
   "codemirror_mode": {
    "name": "ipython",
    "version": 3
   },
   "file_extension": ".py",
   "mimetype": "text/x-python",
   "name": "python",
   "nbconvert_exporter": "python",
   "pygments_lexer": "ipython3",
   "version": "3.11.2"
  }
 },
 "nbformat": 4,
 "nbformat_minor": 2
}
